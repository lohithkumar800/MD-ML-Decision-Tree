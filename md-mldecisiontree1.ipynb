{
 "cells": [
  {
   "cell_type": "code",
   "execution_count": 1,
   "id": "db88b8ff",
   "metadata": {
    "_cell_guid": "b1076dfc-b9ad-4769-8c92-a6c4dae69d19",
    "_uuid": "8f2839f25d086af736a60e9eeb907d3b93b6e0e5",
    "execution": {
     "iopub.execute_input": "2022-11-22T16:24:45.979398Z",
     "iopub.status.busy": "2022-11-22T16:24:45.978603Z",
     "iopub.status.idle": "2022-11-22T16:24:47.193033Z",
     "shell.execute_reply": "2022-11-22T16:24:47.191162Z"
    },
    "papermill": {
     "duration": 1.229361,
     "end_time": "2022-11-22T16:24:47.196752",
     "exception": false,
     "start_time": "2022-11-22T16:24:45.967391",
     "status": "completed"
    },
    "tags": []
   },
   "outputs": [
    {
     "name": "stdout",
     "output_type": "stream",
     "text": [
      "/kaggle/input/heart-dieases-uci/heart.csv\n"
     ]
    }
   ],
   "source": [
    "# This Python 3 environment comes with many helpful analytics libraries installed\n",
    "# It is defined by the kaggle/python Docker image: https://github.com/kaggle/docker-python\n",
    "# For example, here's several helpful packages to load\n",
    "\n",
    "import numpy as np # linear algebra\n",
    "import pandas as pd # data processing, CSV file I/O (e.g. pd.read_csv)\n",
    "import matplotlib.pyplot as plt \n",
    "from sklearn import tree\n",
    "from sklearn.model_selection import train_test_split\n",
    "from sklearn.metrics import accuracy_score\n",
    "\n",
    "# Input data files are available in the read-only \"../input/\" directory\n",
    "# For example, running this (by clicking run or pressing Shift+Enter) will list all files under the input directory\n",
    "\n",
    "import os\n",
    "for dirname, _, filenames in os.walk('/kaggle/input'):\n",
    "    for filename in filenames:\n",
    "        print(os.path.join(dirname, filename))\n",
    "\n",
    "# You can write up to 20GB to the current directory (/kaggle/working/) that gets preserved as output when you create a version using \"Save & Run All\" \n",
    "# You can also write temporary files to /kaggle/temp/, but they won't be saved outside of the current session"
   ]
  },
  {
   "cell_type": "markdown",
   "id": "886d90bd",
   "metadata": {
    "papermill": {
     "duration": 0.005927,
     "end_time": "2022-11-22T16:24:47.209245",
     "exception": false,
     "start_time": "2022-11-22T16:24:47.203318",
     "status": "completed"
    },
    "tags": []
   },
   "source": [
    "# Loading Datset: Heart Disease UCI"
   ]
  },
  {
   "cell_type": "code",
   "execution_count": 2,
   "id": "7018001b",
   "metadata": {
    "execution": {
     "iopub.execute_input": "2022-11-22T16:24:47.223466Z",
     "iopub.status.busy": "2022-11-22T16:24:47.222831Z",
     "iopub.status.idle": "2022-11-22T16:24:47.259273Z",
     "shell.execute_reply": "2022-11-22T16:24:47.258220Z"
    },
    "papermill": {
     "duration": 0.046331,
     "end_time": "2022-11-22T16:24:47.261824",
     "exception": false,
     "start_time": "2022-11-22T16:24:47.215493",
     "status": "completed"
    },
    "tags": []
   },
   "outputs": [
    {
     "data": {
      "text/html": [
       "<div>\n",
       "<style scoped>\n",
       "    .dataframe tbody tr th:only-of-type {\n",
       "        vertical-align: middle;\n",
       "    }\n",
       "\n",
       "    .dataframe tbody tr th {\n",
       "        vertical-align: top;\n",
       "    }\n",
       "\n",
       "    .dataframe thead th {\n",
       "        text-align: right;\n",
       "    }\n",
       "</style>\n",
       "<table border=\"1\" class=\"dataframe\">\n",
       "  <thead>\n",
       "    <tr style=\"text-align: right;\">\n",
       "      <th></th>\n",
       "      <th>age</th>\n",
       "      <th>sex</th>\n",
       "      <th>cp</th>\n",
       "      <th>trestbps</th>\n",
       "      <th>chol</th>\n",
       "      <th>fbs</th>\n",
       "      <th>restecg</th>\n",
       "      <th>thalach</th>\n",
       "      <th>exang</th>\n",
       "      <th>oldpeak</th>\n",
       "      <th>slope</th>\n",
       "      <th>ca</th>\n",
       "      <th>thal</th>\n",
       "      <th>target</th>\n",
       "    </tr>\n",
       "  </thead>\n",
       "  <tbody>\n",
       "    <tr>\n",
       "      <th>233</th>\n",
       "      <td>64</td>\n",
       "      <td>1</td>\n",
       "      <td>0</td>\n",
       "      <td>120</td>\n",
       "      <td>246</td>\n",
       "      <td>0</td>\n",
       "      <td>0</td>\n",
       "      <td>96</td>\n",
       "      <td>1</td>\n",
       "      <td>2.2</td>\n",
       "      <td>0</td>\n",
       "      <td>1</td>\n",
       "      <td>2</td>\n",
       "      <td>0</td>\n",
       "    </tr>\n",
       "    <tr>\n",
       "      <th>197</th>\n",
       "      <td>67</td>\n",
       "      <td>1</td>\n",
       "      <td>0</td>\n",
       "      <td>125</td>\n",
       "      <td>254</td>\n",
       "      <td>1</td>\n",
       "      <td>1</td>\n",
       "      <td>163</td>\n",
       "      <td>0</td>\n",
       "      <td>0.2</td>\n",
       "      <td>1</td>\n",
       "      <td>2</td>\n",
       "      <td>3</td>\n",
       "      <td>0</td>\n",
       "    </tr>\n",
       "    <tr>\n",
       "      <th>149</th>\n",
       "      <td>42</td>\n",
       "      <td>1</td>\n",
       "      <td>2</td>\n",
       "      <td>130</td>\n",
       "      <td>180</td>\n",
       "      <td>0</td>\n",
       "      <td>1</td>\n",
       "      <td>150</td>\n",
       "      <td>0</td>\n",
       "      <td>0.0</td>\n",
       "      <td>2</td>\n",
       "      <td>0</td>\n",
       "      <td>2</td>\n",
       "      <td>1</td>\n",
       "    </tr>\n",
       "    <tr>\n",
       "      <th>38</th>\n",
       "      <td>65</td>\n",
       "      <td>0</td>\n",
       "      <td>2</td>\n",
       "      <td>155</td>\n",
       "      <td>269</td>\n",
       "      <td>0</td>\n",
       "      <td>1</td>\n",
       "      <td>148</td>\n",
       "      <td>0</td>\n",
       "      <td>0.8</td>\n",
       "      <td>2</td>\n",
       "      <td>0</td>\n",
       "      <td>2</td>\n",
       "      <td>1</td>\n",
       "    </tr>\n",
       "    <tr>\n",
       "      <th>183</th>\n",
       "      <td>58</td>\n",
       "      <td>1</td>\n",
       "      <td>2</td>\n",
       "      <td>112</td>\n",
       "      <td>230</td>\n",
       "      <td>0</td>\n",
       "      <td>0</td>\n",
       "      <td>165</td>\n",
       "      <td>0</td>\n",
       "      <td>2.5</td>\n",
       "      <td>1</td>\n",
       "      <td>1</td>\n",
       "      <td>3</td>\n",
       "      <td>0</td>\n",
       "    </tr>\n",
       "  </tbody>\n",
       "</table>\n",
       "</div>"
      ],
      "text/plain": [
       "     age  sex  cp  trestbps  chol  fbs  restecg  thalach  exang  oldpeak  \\\n",
       "233   64    1   0       120   246    0        0       96      1      2.2   \n",
       "197   67    1   0       125   254    1        1      163      0      0.2   \n",
       "149   42    1   2       130   180    0        1      150      0      0.0   \n",
       "38    65    0   2       155   269    0        1      148      0      0.8   \n",
       "183   58    1   2       112   230    0        0      165      0      2.5   \n",
       "\n",
       "     slope  ca  thal  target  \n",
       "233      0   1     2       0  \n",
       "197      1   2     3       0  \n",
       "149      2   0     2       1  \n",
       "38       2   0     2       1  \n",
       "183      1   1     3       0  "
      ]
     },
     "execution_count": 2,
     "metadata": {},
     "output_type": "execute_result"
    }
   ],
   "source": [
    "df = pd.read_csv(\"../input/heart-dieases-uci/heart.csv\")\n",
    "#DF.HEAD(0)\n",
    "df.sample(5)"
   ]
  },
  {
   "cell_type": "code",
   "execution_count": 3,
   "id": "2ac8ffb5",
   "metadata": {
    "execution": {
     "iopub.execute_input": "2022-11-22T16:24:47.275964Z",
     "iopub.status.busy": "2022-11-22T16:24:47.275566Z",
     "iopub.status.idle": "2022-11-22T16:24:47.282124Z",
     "shell.execute_reply": "2022-11-22T16:24:47.280772Z"
    },
    "papermill": {
     "duration": 0.015978,
     "end_time": "2022-11-22T16:24:47.284174",
     "exception": false,
     "start_time": "2022-11-22T16:24:47.268196",
     "status": "completed"
    },
    "tags": []
   },
   "outputs": [
    {
     "name": "stdout",
     "output_type": "stream",
     "text": [
      "14 columns found!\n",
      "['age', 'sex', 'cp', 'trestbps', 'chol', 'fbs', 'restecg', 'thalach', 'exang', 'oldpeak', 'slope', 'ca', 'thal', 'target']\n"
     ]
    }
   ],
   "source": [
    "print(\"\" + str(len(df.columns)) + \" columns found!\")\n",
    "columns = list(df.columns)\n",
    "print(columns)      "
   ]
  },
  {
   "cell_type": "code",
   "execution_count": 4,
   "id": "61d29351",
   "metadata": {
    "execution": {
     "iopub.execute_input": "2022-11-22T16:24:47.298925Z",
     "iopub.status.busy": "2022-11-22T16:24:47.298250Z",
     "iopub.status.idle": "2022-11-22T16:24:47.304246Z",
     "shell.execute_reply": "2022-11-22T16:24:47.303004Z"
    },
    "papermill": {
     "duration": 0.016153,
     "end_time": "2022-11-22T16:24:47.306664",
     "exception": false,
     "start_time": "2022-11-22T16:24:47.290511",
     "status": "completed"
    },
    "tags": []
   },
   "outputs": [
    {
     "name": "stdout",
     "output_type": "stream",
     "text": [
      "FEATURES: ['age', 'sex', 'cp', 'trestbps', 'chol', 'fbs', 'restecg', 'thalach', 'exang', 'oldpeak', 'slope', 'ca', 'thal']\n"
     ]
    }
   ],
   "source": [
    "FEATURES = columns[0:len(columns)-1]\n",
    "print(\"FEATURES: \" + str(FEATURES))"
   ]
  },
  {
   "cell_type": "code",
   "execution_count": 5,
   "id": "d1876369",
   "metadata": {
    "execution": {
     "iopub.execute_input": "2022-11-22T16:24:47.321452Z",
     "iopub.status.busy": "2022-11-22T16:24:47.320699Z",
     "iopub.status.idle": "2022-11-22T16:24:47.326832Z",
     "shell.execute_reply": "2022-11-22T16:24:47.325558Z"
    },
    "papermill": {
     "duration": 0.016184,
     "end_time": "2022-11-22T16:24:47.329139",
     "exception": false,
     "start_time": "2022-11-22T16:24:47.312955",
     "status": "completed"
    },
    "tags": []
   },
   "outputs": [
    {
     "name": "stdout",
     "output_type": "stream",
     "text": [
      "Total rows: 303\n"
     ]
    }
   ],
   "source": [
    "TOTAL_ROWS = len(df)\n",
    "print(\"Total rows: \" + str(TOTAL_ROWS))"
   ]
  },
  {
   "cell_type": "markdown",
   "id": "da1ae643",
   "metadata": {
    "papermill": {
     "duration": 0.006266,
     "end_time": "2022-11-22T16:24:47.341766",
     "exception": false,
     "start_time": "2022-11-22T16:24:47.335500",
     "status": "completed"
    },
    "tags": []
   },
   "source": [
    "# Visualize the data:"
   ]
  },
  {
   "cell_type": "code",
   "execution_count": 6,
   "id": "dc7fd961",
   "metadata": {
    "execution": {
     "iopub.execute_input": "2022-11-22T16:24:47.357882Z",
     "iopub.status.busy": "2022-11-22T16:24:47.357469Z",
     "iopub.status.idle": "2022-11-22T16:24:47.617104Z",
     "shell.execute_reply": "2022-11-22T16:24:47.615859Z"
    },
    "papermill": {
     "duration": 0.271577,
     "end_time": "2022-11-22T16:24:47.619621",
     "exception": false,
     "start_time": "2022-11-22T16:24:47.348044",
     "status": "completed"
    },
    "tags": []
   },
   "outputs": [
    {
     "data": {
      "text/plain": [
       "<AxesSubplot:ylabel='Frequency'>"
      ]
     },
     "execution_count": 6,
     "metadata": {},
     "output_type": "execute_result"
    },
    {
     "data": {
      "image/png": "[encoded data removed]",
      "text/plain": [
       "<Figure size 432x288 with 1 Axes>"
      ]
     },
     "metadata": {
      "needs_background": "light"
     },
     "output_type": "display_data"
    }
   ],
   "source": [
    "df[\"age\"].plot(kind=\"hist\")"
   ]
  },
  {
   "cell_type": "markdown",
   "id": "14947ba9",
   "metadata": {
    "papermill": {
     "duration": 0.006408,
     "end_time": "2022-11-22T16:24:47.632840",
     "exception": false,
     "start_time": "2022-11-22T16:24:47.626432",
     "status": "completed"
    },
    "tags": []
   },
   "source": [
    "# Train-test split:"
   ]
  },
  {
   "cell_type": "code",
   "execution_count": 7,
   "id": "367607ee",
   "metadata": {
    "execution": {
     "iopub.execute_input": "2022-11-22T16:24:47.648317Z",
     "iopub.status.busy": "2022-11-22T16:24:47.647343Z",
     "iopub.status.idle": "2022-11-22T16:24:47.653288Z",
     "shell.execute_reply": "2022-11-22T16:24:47.652431Z"
    },
    "papermill": {
     "duration": 0.01586,
     "end_time": "2022-11-22T16:24:47.655337",
     "exception": false,
     "start_time": "2022-11-22T16:24:47.639477",
     "status": "completed"
    },
    "tags": []
   },
   "outputs": [],
   "source": [
    "df_train, df_test = train_test_split(df, test_size=0.2)"
   ]
  },
  {
   "cell_type": "code",
   "execution_count": 8,
   "id": "0687993e",
   "metadata": {
    "execution": {
     "iopub.execute_input": "2022-11-22T16:24:47.671089Z",
     "iopub.status.busy": "2022-11-22T16:24:47.670408Z",
     "iopub.status.idle": "2022-11-22T16:24:47.676723Z",
     "shell.execute_reply": "2022-11-22T16:24:47.675072Z"
    },
    "papermill": {
     "duration": 0.017352,
     "end_time": "2022-11-22T16:24:47.679380",
     "exception": false,
     "start_time": "2022-11-22T16:24:47.662028",
     "status": "completed"
    },
    "tags": []
   },
   "outputs": [
    {
     "name": "stdout",
     "output_type": "stream",
     "text": [
      "Training data: 242\n",
      "Testing data: 61\n"
     ]
    }
   ],
   "source": [
    "print(\"Training data: \" + str(len(df_train)))\n",
    "print(\"Testing data: \" + str(len(df_test)))"
   ]
  },
  {
   "cell_type": "markdown",
   "id": "661ded64",
   "metadata": {
    "papermill": {
     "duration": 0.006478,
     "end_time": "2022-11-22T16:24:47.692979",
     "exception": false,
     "start_time": "2022-11-22T16:24:47.686501",
     "status": "completed"
    },
    "tags": []
   },
   "source": [
    "# Load the train data"
   ]
  },
  {
   "cell_type": "code",
   "execution_count": 9,
   "id": "dbc2902c",
   "metadata": {
    "execution": {
     "iopub.execute_input": "2022-11-22T16:24:47.708124Z",
     "iopub.status.busy": "2022-11-22T16:24:47.707692Z",
     "iopub.status.idle": "2022-11-22T16:24:47.714347Z",
     "shell.execute_reply": "2022-11-22T16:24:47.713260Z"
    },
    "papermill": {
     "duration": 0.017058,
     "end_time": "2022-11-22T16:24:47.716778",
     "exception": false,
     "start_time": "2022-11-22T16:24:47.699720",
     "status": "completed"
    },
    "tags": []
   },
   "outputs": [],
   "source": [
    "x_train = df_train[FEATURES]\n",
    "y_train = df_train['target']"
   ]
  },
  {
   "cell_type": "code",
   "execution_count": 10,
   "id": "c39725dc",
   "metadata": {
    "execution": {
     "iopub.execute_input": "2022-11-22T16:24:47.733183Z",
     "iopub.status.busy": "2022-11-22T16:24:47.732751Z",
     "iopub.status.idle": "2022-11-22T16:24:47.747792Z",
     "shell.execute_reply": "2022-11-22T16:24:47.746589Z"
    },
    "papermill": {
     "duration": 0.025943,
     "end_time": "2022-11-22T16:24:47.749950",
     "exception": false,
     "start_time": "2022-11-22T16:24:47.724007",
     "status": "completed"
    },
    "tags": []
   },
   "outputs": [
    {
     "data": {
      "text/html": [
       "<div>\n",
       "<style scoped>\n",
       "    .dataframe tbody tr th:only-of-type {\n",
       "        vertical-align: middle;\n",
       "    }\n",
       "\n",
       "    .dataframe tbody tr th {\n",
       "        vertical-align: top;\n",
       "    }\n",
       "\n",
       "    .dataframe thead th {\n",
       "        text-align: right;\n",
       "    }\n",
       "</style>\n",
       "<table border=\"1\" class=\"dataframe\">\n",
       "  <thead>\n",
       "    <tr style=\"text-align: right;\">\n",
       "      <th></th>\n",
       "      <th>age</th>\n",
       "      <th>sex</th>\n",
       "      <th>cp</th>\n",
       "      <th>trestbps</th>\n",
       "      <th>chol</th>\n",
       "      <th>fbs</th>\n",
       "      <th>restecg</th>\n",
       "      <th>thalach</th>\n",
       "      <th>exang</th>\n",
       "      <th>oldpeak</th>\n",
       "      <th>slope</th>\n",
       "      <th>ca</th>\n",
       "      <th>thal</th>\n",
       "    </tr>\n",
       "  </thead>\n",
       "  <tbody>\n",
       "    <tr>\n",
       "      <th>130</th>\n",
       "      <td>54</td>\n",
       "      <td>0</td>\n",
       "      <td>2</td>\n",
       "      <td>160</td>\n",
       "      <td>201</td>\n",
       "      <td>0</td>\n",
       "      <td>1</td>\n",
       "      <td>163</td>\n",
       "      <td>0</td>\n",
       "      <td>0.0</td>\n",
       "      <td>2</td>\n",
       "      <td>1</td>\n",
       "      <td>2</td>\n",
       "    </tr>\n",
       "    <tr>\n",
       "      <th>124</th>\n",
       "      <td>39</td>\n",
       "      <td>0</td>\n",
       "      <td>2</td>\n",
       "      <td>94</td>\n",
       "      <td>199</td>\n",
       "      <td>0</td>\n",
       "      <td>1</td>\n",
       "      <td>179</td>\n",
       "      <td>0</td>\n",
       "      <td>0.0</td>\n",
       "      <td>2</td>\n",
       "      <td>0</td>\n",
       "      <td>2</td>\n",
       "    </tr>\n",
       "    <tr>\n",
       "      <th>128</th>\n",
       "      <td>52</td>\n",
       "      <td>0</td>\n",
       "      <td>2</td>\n",
       "      <td>136</td>\n",
       "      <td>196</td>\n",
       "      <td>0</td>\n",
       "      <td>0</td>\n",
       "      <td>169</td>\n",
       "      <td>0</td>\n",
       "      <td>0.1</td>\n",
       "      <td>1</td>\n",
       "      <td>0</td>\n",
       "      <td>2</td>\n",
       "    </tr>\n",
       "    <tr>\n",
       "      <th>14</th>\n",
       "      <td>58</td>\n",
       "      <td>0</td>\n",
       "      <td>3</td>\n",
       "      <td>150</td>\n",
       "      <td>283</td>\n",
       "      <td>1</td>\n",
       "      <td>0</td>\n",
       "      <td>162</td>\n",
       "      <td>0</td>\n",
       "      <td>1.0</td>\n",
       "      <td>2</td>\n",
       "      <td>0</td>\n",
       "      <td>2</td>\n",
       "    </tr>\n",
       "    <tr>\n",
       "      <th>58</th>\n",
       "      <td>34</td>\n",
       "      <td>1</td>\n",
       "      <td>3</td>\n",
       "      <td>118</td>\n",
       "      <td>182</td>\n",
       "      <td>0</td>\n",
       "      <td>0</td>\n",
       "      <td>174</td>\n",
       "      <td>0</td>\n",
       "      <td>0.0</td>\n",
       "      <td>2</td>\n",
       "      <td>0</td>\n",
       "      <td>2</td>\n",
       "    </tr>\n",
       "  </tbody>\n",
       "</table>\n",
       "</div>"
      ],
      "text/plain": [
       "     age  sex  cp  trestbps  chol  fbs  restecg  thalach  exang  oldpeak  \\\n",
       "130   54    0   2       160   201    0        1      163      0      0.0   \n",
       "124   39    0   2        94   199    0        1      179      0      0.0   \n",
       "128   52    0   2       136   196    0        0      169      0      0.1   \n",
       "14    58    0   3       150   283    1        0      162      0      1.0   \n",
       "58    34    1   3       118   182    0        0      174      0      0.0   \n",
       "\n",
       "     slope  ca  thal  \n",
       "130      2   1     2  \n",
       "124      2   0     2  \n",
       "128      1   0     2  \n",
       "14       2   0     2  \n",
       "58       2   0     2  "
      ]
     },
     "execution_count": 10,
     "metadata": {},
     "output_type": "execute_result"
    }
   ],
   "source": [
    "x_train.head()"
   ]
  },
  {
   "cell_type": "code",
   "execution_count": 11,
   "id": "9a5b83fb",
   "metadata": {
    "execution": {
     "iopub.execute_input": "2022-11-22T16:24:47.765689Z",
     "iopub.status.busy": "2022-11-22T16:24:47.765281Z",
     "iopub.status.idle": "2022-11-22T16:24:47.772624Z",
     "shell.execute_reply": "2022-11-22T16:24:47.771554Z"
    },
    "papermill": {
     "duration": 0.018043,
     "end_time": "2022-11-22T16:24:47.775044",
     "exception": false,
     "start_time": "2022-11-22T16:24:47.757001",
     "status": "completed"
    },
    "tags": []
   },
   "outputs": [
    {
     "data": {
      "text/plain": [
       "130    1\n",
       "124    1\n",
       "128    1\n",
       "14     1\n",
       "58     1\n",
       "Name: target, dtype: int64"
      ]
     },
     "execution_count": 11,
     "metadata": {},
     "output_type": "execute_result"
    }
   ],
   "source": [
    "y_train.head()"
   ]
  },
  {
   "cell_type": "markdown",
   "id": "76956ece",
   "metadata": {
    "papermill": {
     "duration": 0.006916,
     "end_time": "2022-11-22T16:24:47.789338",
     "exception": false,
     "start_time": "2022-11-22T16:24:47.782422",
     "status": "completed"
    },
    "tags": []
   },
   "source": [
    "# Load test data"
   ]
  },
  {
   "cell_type": "code",
   "execution_count": 12,
   "id": "d509b83c",
   "metadata": {
    "execution": {
     "iopub.execute_input": "2022-11-22T16:24:47.807004Z",
     "iopub.status.busy": "2022-11-22T16:24:47.805989Z",
     "iopub.status.idle": "2022-11-22T16:24:47.813216Z",
     "shell.execute_reply": "2022-11-22T16:24:47.812275Z"
    },
    "papermill": {
     "duration": 0.019869,
     "end_time": "2022-11-22T16:24:47.816756",
     "exception": false,
     "start_time": "2022-11-22T16:24:47.796887",
     "status": "completed"
    },
    "tags": []
   },
   "outputs": [],
   "source": [
    "x_test = df_test[FEATURES]\n",
    "y_test = df_test['target']"
   ]
  },
  {
   "cell_type": "markdown",
   "id": "f870ad72",
   "metadata": {
    "papermill": {
     "duration": 0.008561,
     "end_time": "2022-11-22T16:24:47.835227",
     "exception": false,
     "start_time": "2022-11-22T16:24:47.826666",
     "status": "completed"
    },
    "tags": []
   },
   "source": [
    "# Instantiate Decision Tree model"
   ]
  },
  {
   "cell_type": "code",
   "execution_count": 13,
   "id": "2228e4a9",
   "metadata": {
    "execution": {
     "iopub.execute_input": "2022-11-22T16:24:47.854221Z",
     "iopub.status.busy": "2022-11-22T16:24:47.853502Z",
     "iopub.status.idle": "2022-11-22T16:24:47.859041Z",
     "shell.execute_reply": "2022-11-22T16:24:47.857626Z"
    },
    "papermill": {
     "duration": 0.018843,
     "end_time": "2022-11-22T16:24:47.861948",
     "exception": false,
     "start_time": "2022-11-22T16:24:47.843105",
     "status": "completed"
    },
    "tags": []
   },
   "outputs": [],
   "source": [
    "dtc = tree.DecisionTreeClassifier()"
   ]
  },
  {
   "cell_type": "markdown",
   "id": "9ebc0a4c",
   "metadata": {
    "papermill": {
     "duration": 0.007044,
     "end_time": "2022-11-22T16:24:47.879013",
     "exception": false,
     "start_time": "2022-11-22T16:24:47.871969",
     "status": "completed"
    },
    "tags": []
   },
   "source": [
    "# Train/Fit"
   ]
  },
  {
   "cell_type": "code",
   "execution_count": 14,
   "id": "be0a6118",
   "metadata": {
    "execution": {
     "iopub.execute_input": "2022-11-22T16:24:47.894881Z",
     "iopub.status.busy": "2022-11-22T16:24:47.894471Z",
     "iopub.status.idle": "2022-11-22T16:24:47.906011Z",
     "shell.execute_reply": "2022-11-22T16:24:47.905267Z"
    },
    "papermill": {
     "duration": 0.021947,
     "end_time": "2022-11-22T16:24:47.908099",
     "exception": false,
     "start_time": "2022-11-22T16:24:47.886152",
     "status": "completed"
    },
    "tags": []
   },
   "outputs": [
    {
     "data": {
      "text/plain": [
       "DecisionTreeClassifier()"
      ]
     },
     "execution_count": 14,
     "metadata": {},
     "output_type": "execute_result"
    }
   ],
   "source": [
    "dtc.fit(x_train, y_train)"
   ]
  },
  {
   "cell_type": "markdown",
   "id": "cb90d5ad",
   "metadata": {
    "papermill": {
     "duration": 0.006861,
     "end_time": "2022-11-22T16:24:47.922272",
     "exception": false,
     "start_time": "2022-11-22T16:24:47.915411",
     "status": "completed"
    },
    "tags": []
   },
   "source": [
    "# Predict for test bills"
   ]
  },
  {
   "cell_type": "code",
   "execution_count": 15,
   "id": "2363f822",
   "metadata": {
    "execution": {
     "iopub.execute_input": "2022-11-22T16:24:47.938609Z",
     "iopub.status.busy": "2022-11-22T16:24:47.937562Z",
     "iopub.status.idle": "2022-11-22T16:24:47.945715Z",
     "shell.execute_reply": "2022-11-22T16:24:47.944624Z"
    },
    "papermill": {
     "duration": 0.019711,
     "end_time": "2022-11-22T16:24:47.949033",
     "exception": false,
     "start_time": "2022-11-22T16:24:47.929322",
     "status": "completed"
    },
    "tags": []
   },
   "outputs": [
    {
     "name": "stdout",
     "output_type": "stream",
     "text": [
      "[0, 1, 0, 1, 1, 1, 1, 0, 1, 0, 0, 1, 0, 1, 0, 1, 1, 1, 1, 1, 0, 0, 0, 0, 0, 1, 0, 1, 1, 1, 0, 1, 1, 1, 0, 0, 0, 1, 1, 0, 0, 0, 1, 1, 1, 0, 1, 1, 0, 0, 1, 1, 1, 1, 1, 1, 1, 1, 1, 1, 1]\n"
     ]
    }
   ],
   "source": [
    "heart_disease_pred = dtc.predict(x_test)\n",
    "print(list(heart_disease_pred))"
   ]
  },
  {
   "cell_type": "markdown",
   "id": "798e30eb",
   "metadata": {
    "papermill": {
     "duration": 0.007075,
     "end_time": "2022-11-22T16:24:47.964249",
     "exception": false,
     "start_time": "2022-11-22T16:24:47.957174",
     "status": "completed"
    },
    "tags": []
   },
   "source": [
    "# Crosscheck with actual test data:"
   ]
  },
  {
   "cell_type": "code",
   "execution_count": 16,
   "id": "50ac4ac4",
   "metadata": {
    "execution": {
     "iopub.execute_input": "2022-11-22T16:24:47.981192Z",
     "iopub.status.busy": "2022-11-22T16:24:47.980182Z",
     "iopub.status.idle": "2022-11-22T16:24:47.986516Z",
     "shell.execute_reply": "2022-11-22T16:24:47.985314Z"
    },
    "papermill": {
     "duration": 0.017395,
     "end_time": "2022-11-22T16:24:47.989171",
     "exception": false,
     "start_time": "2022-11-22T16:24:47.971776",
     "status": "completed"
    },
    "tags": []
   },
   "outputs": [
    {
     "name": "stdout",
     "output_type": "stream",
     "text": [
      "Accuracy score: 0.819672131147541\n"
     ]
    }
   ],
   "source": [
    "#Accuracy:\n",
    "print('Accuracy score: ' + str(accuracy_score(y_test,heart_disease_pred)))"
   ]
  },
  {
   "cell_type": "code",
   "execution_count": 17,
   "id": "b53bdb20",
   "metadata": {
    "execution": {
     "iopub.execute_input": "2022-11-22T16:24:48.006460Z",
     "iopub.status.busy": "2022-11-22T16:24:48.006044Z",
     "iopub.status.idle": "2022-11-22T16:24:48.011436Z",
     "shell.execute_reply": "2022-11-22T16:24:48.010341Z"
    },
    "papermill": {
     "duration": 0.017313,
     "end_time": "2022-11-22T16:24:48.014428",
     "exception": false,
     "start_time": "2022-11-22T16:24:47.997115",
     "status": "completed"
    },
    "tags": []
   },
   "outputs": [
    {
     "name": "stdout",
     "output_type": "stream",
     "text": [
      "[0, 0, 0, 1, 1, 1, 1, 0, 1, 0, 0, 0, 0, 1, 1, 1, 1, 1, 1, 1, 0, 0, 1, 0, 0, 1, 1, 1, 1, 0, 0, 1, 1, 1, 0, 0, 0, 1, 0, 0, 0, 0, 1, 1, 1, 0, 1, 1, 0, 1, 1, 1, 0, 1, 1, 1, 0, 1, 1, 0, 1]\n"
     ]
    }
   ],
   "source": [
    "#Actual\n",
    "print(list(y_test))"
   ]
  }
 ],
 "metadata": {
  "kernelspec": {
   "display_name": "Python 3",
   "language": "python",
   "name": "python3"
  },
  "language_info": {
   "codemirror_mode": {
    "name": "ipython",
    "version": 3
   },
   "file_extension": ".py",
   "mimetype": "text/x-python",
   "name": "python",
   "nbconvert_exporter": "python",
   "pygments_lexer": "ipython3",
   "version": "3.7.12"
  },
  "papermill": {
   "default_parameters": {},
   "duration": 11.21782,
   "end_time": "2022-11-22T16:24:48.744905",
   "environment_variables": {},
   "exception": null,
   "input_path": "__notebook__.ipynb",
   "output_path": "__notebook__.ipynb",
   "parameters": {},
   "start_time": "2022-11-22T16:24:37.527085",
   "version": "2.3.4"
  }
 },
 "nbformat": 4,
 "nbformat_minor": 5
}
